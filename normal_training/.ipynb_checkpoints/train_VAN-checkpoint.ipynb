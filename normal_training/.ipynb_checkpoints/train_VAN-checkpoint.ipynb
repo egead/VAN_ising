{
 "cells": [
  {
   "cell_type": "code",
   "execution_count": 2,
   "id": "c7de128a-a5a9-4229-a138-654fb4c074f2",
   "metadata": {},
   "outputs": [],
   "source": [
    "import torch;\n",
    "import sys;\n",
    "sys.path.append('../lib')\n",
    "\n",
    "import matplotlib.pyplot as plt;\n",
    "import time;\n",
    "import args; #just for parameters\n",
    "import ising; #for energy calculation\n",
    "from VAN import VAN; #VAN class\n",
    "\n",
    "args.beta = 0.44;\n",
    "args.L = 16;\n",
    "args.max_step = 10000; #number of epochs\n",
    "args.batch_size = 1000;\n",
    "args.lr = 1e-3; #learning rate"
   ]
  },
  {
   "cell_type": "code",
   "execution_count": 9,
   "id": "8c6c3bf7-8397-4aae-9a7f-ee82fe13095f",
   "metadata": {},
   "outputs": [],
   "source": [
    "def train(net, epochs=args.max_step, batch_size=args.batch_size, learning_rate=args.lr, beta=args.beta):\n",
    "    time_start = time.time();\n",
    "    \n",
    "    optimizer = torch.optim.Adam(net.parameters(), lr=learning_rate, betas=(0.9, 0.999));\n",
    "    for i in range(epochs):\n",
    "        optimizer.zero_grad();\n",
    "        \n",
    "        with torch.no_grad():\n",
    "            sample, x_hat = net.fast_sampling(batch_size);  #generate samples\n",
    "        assert not sample.requires_grad;\n",
    "        assert not x_hat.requires_grad;\n",
    "        \n",
    "        log_prob = net.log_prob(sample);  #calculate proposal probability\n",
    "        \n",
    "        with torch.no_grad():\n",
    "            energy = ising.energy(sample, 'fm', 'sqr', 'periodic')  #calculate energy\n",
    "            loss = log_prob + beta * energy  #-beta * energy is target log-probability\n",
    "        assert not energy.requires_grad\n",
    "        assert not loss.requires_grad\n",
    "        #optimize Kullback-Leibler-Divergence (derivation can be found in paper)\n",
    "        loss_reinforce = torch.mean((loss - loss.mean()) * log_prob)\n",
    "        loss_reinforce.backward()\n",
    "        \n",
    "        optimizer.step();\n",
    "        \n",
    "        if i % 100 == 0:\n",
    "            delta_time = time.time() - time_start;\n",
    "            time_start = time.time();\n",
    "            print(i, delta_time);"
   ]
  },
  {
   "cell_type": "code",
   "execution_count": 10,
   "id": "f076465a-afcb-4887-84b2-6da18803922b",
   "metadata": {
    "collapsed": true,
    "jupyter": {
     "outputs_hidden": true
    },
    "tags": []
   },
   "outputs": [
    {
     "name": "stdout",
     "output_type": "stream",
     "text": [
      "0 0.14426589012145996\n",
      "100 12.783537149429321\n"
     ]
    },
    {
     "ename": "KeyboardInterrupt",
     "evalue": "",
     "output_type": "error",
     "traceback": [
      "\u001b[0;31m---------------------------------------------------------------------------\u001b[0m",
      "\u001b[0;31mKeyboardInterrupt\u001b[0m                         Traceback (most recent call last)",
      "Cell \u001b[0;32mIn[10], line 4\u001b[0m\n\u001b[1;32m      1\u001b[0m \u001b[38;5;66;03m#initialize the network (replace 'cuda' with 'cpu' if necessary)\u001b[39;00m\n\u001b[1;32m      2\u001b[0m net \u001b[38;5;241m=\u001b[39m VAN(args\u001b[38;5;241m.\u001b[39mL, \u001b[38;5;241m4\u001b[39m, \u001b[38;5;241m64\u001b[39m, \u001b[38;5;241m1\u001b[39m, \u001b[38;5;124m'\u001b[39m\u001b[38;5;124mcuda\u001b[39m\u001b[38;5;124m'\u001b[39m)\u001b[38;5;241m.\u001b[39mto(\u001b[38;5;124m'\u001b[39m\u001b[38;5;124mcuda\u001b[39m\u001b[38;5;124m'\u001b[39m);\n\u001b[0;32m----> 4\u001b[0m \u001b[43mtrain\u001b[49m\u001b[43m(\u001b[49m\u001b[43mnet\u001b[49m\u001b[43m)\u001b[49m;\n",
      "Cell \u001b[0;32mIn[9], line 9\u001b[0m, in \u001b[0;36mtrain\u001b[0;34m(net, epochs, batch_size, learning_rate, beta)\u001b[0m\n\u001b[1;32m      6\u001b[0m optimizer\u001b[38;5;241m.\u001b[39mzero_grad();\n\u001b[1;32m      8\u001b[0m \u001b[38;5;28;01mwith\u001b[39;00m torch\u001b[38;5;241m.\u001b[39mno_grad():\n\u001b[0;32m----> 9\u001b[0m     sample, x_hat \u001b[38;5;241m=\u001b[39m \u001b[43mnet\u001b[49m\u001b[38;5;241;43m.\u001b[39;49m\u001b[43mfast_sampling\u001b[49m\u001b[43m(\u001b[49m\u001b[43mbatch_size\u001b[49m\u001b[43m)\u001b[49m;  \u001b[38;5;66;03m#generate samples\u001b[39;00m\n\u001b[1;32m     10\u001b[0m \u001b[38;5;28;01massert\u001b[39;00m \u001b[38;5;129;01mnot\u001b[39;00m sample\u001b[38;5;241m.\u001b[39mrequires_grad;\n\u001b[1;32m     11\u001b[0m \u001b[38;5;28;01massert\u001b[39;00m \u001b[38;5;129;01mnot\u001b[39;00m x_hat\u001b[38;5;241m.\u001b[39mrequires_grad;\n",
      "File \u001b[0;32m~/Scratch/VAN_Ising/normal_training/../lib/VAN.py:138\u001b[0m, in \u001b[0;36mVAN.fast_sampling\u001b[0;34m(self, batch_size)\u001b[0m\n\u001b[1;32m    135\u001b[0m             \u001b[38;5;28;01mif\u001b[39;00m (ik \u001b[38;5;241m<\u001b[39m \u001b[38;5;241m0\u001b[39m \u001b[38;5;129;01mor\u001b[39;00m (ik \u001b[38;5;241m==\u001b[39m \u001b[38;5;241m0\u001b[39m \u001b[38;5;129;01mand\u001b[39;00m jk \u001b[38;5;241m<\u001b[39m\u001b[38;5;241m=\u001b[39m \u001b[38;5;241m0\u001b[39m)) \\\n\u001b[1;32m    136\u001b[0m             \u001b[38;5;129;01mand\u001b[39;00m ((i \u001b[38;5;241m+\u001b[39m ik\u001b[38;5;241m*\u001b[39mdil) \u001b[38;5;241m>\u001b[39m\u001b[38;5;241m=\u001b[39m \u001b[38;5;241m0\u001b[39m) \u001b[38;5;129;01mand\u001b[39;00m ((j \u001b[38;5;241m+\u001b[39m jk\u001b[38;5;241m*\u001b[39mdil) \u001b[38;5;241m>\u001b[39m\u001b[38;5;241m=\u001b[39m \u001b[38;5;241m0\u001b[39m) \u001b[38;5;129;01mand\u001b[39;00m ((j \u001b[38;5;241m+\u001b[39m jk\u001b[38;5;241m*\u001b[39mdil)) \u001b[38;5;241m<\u001b[39m \u001b[38;5;28mself\u001b[39m\u001b[38;5;241m.\u001b[39mL:\n\u001b[1;32m    137\u001b[0m                 mid \u001b[38;5;241m=\u001b[39m \u001b[38;5;28mself\u001b[39m\u001b[38;5;241m.\u001b[39mkernel_rad;\n\u001b[0;32m--> 138\u001b[0m                 temp[i,j,l,:,:] \u001b[38;5;241m+\u001b[39m\u001b[38;5;241m=\u001b[39m torch\u001b[38;5;241m.\u001b[39mmatmul(weightl[:,:,mid\u001b[38;5;241m+\u001b[39mik,mid\u001b[38;5;241m+\u001b[39mjk], \u001b[38;5;28;43mself\u001b[39;49m\u001b[38;5;241;43m.\u001b[39;49m\u001b[43mnet\u001b[49m\u001b[43m[\u001b[49m\u001b[38;5;241;43m2\u001b[39;49m\u001b[38;5;241;43m*\u001b[39;49m\u001b[43ml\u001b[49m\u001b[43m]\u001b[49m\u001b[43m(\u001b[49m\u001b[43mtemp\u001b[49m\u001b[43m[\u001b[49m\u001b[43mi\u001b[49m\u001b[38;5;241;43m+\u001b[39;49m\u001b[43mik\u001b[49m\u001b[38;5;241;43m*\u001b[39;49m\u001b[43mdil\u001b[49m\u001b[43m,\u001b[49m\u001b[43mj\u001b[49m\u001b[38;5;241;43m+\u001b[39;49m\u001b[43mjk\u001b[49m\u001b[38;5;241;43m*\u001b[39;49m\u001b[43mdil\u001b[49m\u001b[43m,\u001b[49m\u001b[43ml\u001b[49m\u001b[38;5;241;43m-\u001b[39;49m\u001b[38;5;241;43m1\u001b[39;49m\u001b[43m,\u001b[49m\u001b[43m:\u001b[49m\u001b[43m,\u001b[49m\u001b[43m:\u001b[49m\u001b[43m]\u001b[49m\u001b[43m)\u001b[49m);\n\u001b[1;32m    139\u001b[0m     temp[i,j,l,:,:] \u001b[38;5;241m+\u001b[39m\u001b[38;5;241m=\u001b[39m bias[:,\u001b[38;5;28;01mNone\u001b[39;00m];                                                 \n\u001b[1;32m    141\u001b[0m \u001b[38;5;66;03m#last layer\u001b[39;00m\n",
      "File \u001b[0;32m~/tarxy/anaconda/envs/nvidia/lib/python3.10/site-packages/torch/nn/modules/module.py:1501\u001b[0m, in \u001b[0;36mModule._call_impl\u001b[0;34m(self, *args, **kwargs)\u001b[0m\n\u001b[1;32m   1496\u001b[0m \u001b[38;5;66;03m# If we don't have any hooks, we want to skip the rest of the logic in\u001b[39;00m\n\u001b[1;32m   1497\u001b[0m \u001b[38;5;66;03m# this function, and just call forward.\u001b[39;00m\n\u001b[1;32m   1498\u001b[0m \u001b[38;5;28;01mif\u001b[39;00m \u001b[38;5;129;01mnot\u001b[39;00m (\u001b[38;5;28mself\u001b[39m\u001b[38;5;241m.\u001b[39m_backward_hooks \u001b[38;5;129;01mor\u001b[39;00m \u001b[38;5;28mself\u001b[39m\u001b[38;5;241m.\u001b[39m_backward_pre_hooks \u001b[38;5;129;01mor\u001b[39;00m \u001b[38;5;28mself\u001b[39m\u001b[38;5;241m.\u001b[39m_forward_hooks \u001b[38;5;129;01mor\u001b[39;00m \u001b[38;5;28mself\u001b[39m\u001b[38;5;241m.\u001b[39m_forward_pre_hooks\n\u001b[1;32m   1499\u001b[0m         \u001b[38;5;129;01mor\u001b[39;00m _global_backward_pre_hooks \u001b[38;5;129;01mor\u001b[39;00m _global_backward_hooks\n\u001b[1;32m   1500\u001b[0m         \u001b[38;5;129;01mor\u001b[39;00m _global_forward_hooks \u001b[38;5;129;01mor\u001b[39;00m _global_forward_pre_hooks):\n\u001b[0;32m-> 1501\u001b[0m     \u001b[38;5;28;01mreturn\u001b[39;00m \u001b[43mforward_call\u001b[49m\u001b[43m(\u001b[49m\u001b[38;5;241;43m*\u001b[39;49m\u001b[43margs\u001b[49m\u001b[43m,\u001b[49m\u001b[43m \u001b[49m\u001b[38;5;241;43m*\u001b[39;49m\u001b[38;5;241;43m*\u001b[39;49m\u001b[43mkwargs\u001b[49m\u001b[43m)\u001b[49m\n\u001b[1;32m   1502\u001b[0m \u001b[38;5;66;03m# Do not call functions when jit is used\u001b[39;00m\n\u001b[1;32m   1503\u001b[0m full_backward_hooks, non_full_backward_hooks \u001b[38;5;241m=\u001b[39m [], []\n",
      "File \u001b[0;32m~/tarxy/anaconda/envs/nvidia/lib/python3.10/site-packages/torch/nn/modules/activation.py:1309\u001b[0m, in \u001b[0;36mPReLU.forward\u001b[0;34m(self, input)\u001b[0m\n\u001b[1;32m   1308\u001b[0m \u001b[38;5;28;01mdef\u001b[39;00m \u001b[38;5;21mforward\u001b[39m(\u001b[38;5;28mself\u001b[39m, \u001b[38;5;28minput\u001b[39m: Tensor) \u001b[38;5;241m-\u001b[39m\u001b[38;5;241m>\u001b[39m Tensor:\n\u001b[0;32m-> 1309\u001b[0m     \u001b[38;5;28;01mreturn\u001b[39;00m \u001b[43mF\u001b[49m\u001b[38;5;241;43m.\u001b[39;49m\u001b[43mprelu\u001b[49m\u001b[43m(\u001b[49m\u001b[38;5;28;43minput\u001b[39;49m\u001b[43m,\u001b[49m\u001b[43m \u001b[49m\u001b[38;5;28;43mself\u001b[39;49m\u001b[38;5;241;43m.\u001b[39;49m\u001b[43mweight\u001b[49m\u001b[43m)\u001b[49m\n",
      "\u001b[0;31mKeyboardInterrupt\u001b[0m: "
     ]
    }
   ],
   "source": [
    "#initialize the network (replace 'cuda' with 'cpu' if necessary)\n",
    "net = VAN(args.L, 4, 64, 1, 'cuda').to('cuda');\n",
    "\n",
    "train(net);"
   ]
  },
  {
   "cell_type": "code",
   "execution_count": 4,
   "id": "950a9312-fbae-494b-bcf5-40c2106265a6",
   "metadata": {},
   "outputs": [],
   "source": [
    "#uncomment to save network\n",
    "#torch.save(net.state_dict(), 'example_VAN.pt');"
   ]
  },
  {
   "cell_type": "code",
   "execution_count": null,
   "id": "bbce82c8-4e6b-47c3-942d-c842e1f2266d",
   "metadata": {},
   "outputs": [],
   "source": []
  }
 ],
 "metadata": {
  "kernelspec": {
   "display_name": "Python 3 (ipykernel)",
   "language": "python",
   "name": "python3"
  },
  "language_info": {
   "codemirror_mode": {
    "name": "ipython",
    "version": 3
   },
   "file_extension": ".py",
   "mimetype": "text/x-python",
   "name": "python",
   "nbconvert_exporter": "python",
   "pygments_lexer": "ipython3",
   "version": "3.10.10"
  }
 },
 "nbformat": 4,
 "nbformat_minor": 5
}
