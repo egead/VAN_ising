{
 "cells": [
  {
   "cell_type": "code",
   "execution_count": 1,
   "id": "4725f8c2-cfed-4cff-aa47-60282eb7b877",
   "metadata": {},
   "outputs": [],
   "source": [
    "import numpy as np;\n",
    "import torch;\n",
    "import sys;\n",
    "sys.path.append('../lib')\n",
    "\n",
    "import matplotlib.pyplot as plt;\n",
    "import time;\n",
    "import args;\n",
    "import ising;\n",
    "from VAN import VAN;\n",
    "from generate_samples import generate_samples;\n",
    "\n",
    "args.beta = 0.44;\n",
    "args.L = 16;"
   ]
  },
  {
   "cell_type": "code",
   "execution_count": 5,
   "id": "2005ab02-906b-4f12-8ad6-fa6488b241de",
   "metadata": {},
   "outputs": [],
   "source": [
    "net = VAN(args.L, 4, 64, 1, 'cpu').to('cpu');"
   ]
  },
  {
   "cell_type": "code",
   "execution_count": 6,
   "id": "d20f40b2-e022-4dbf-a3ac-e9e03173fdfa",
   "metadata": {},
   "outputs": [],
   "source": [
    "torch.manual_seed(10);\n",
    "s1, x1 = net.sample(1000);\n",
    "torch.manual_seed(10);\n",
    "s2, x2 = net.fast_sampling(1000);"
   ]
  },
  {
   "cell_type": "code",
   "execution_count": 7,
   "id": "3c4b8831-d89f-42ee-85b5-41820943f3b0",
   "metadata": {},
   "outputs": [
    {
     "data": {
      "text/plain": [
       "True"
      ]
     },
     "execution_count": 7,
     "metadata": {},
     "output_type": "execute_result"
    }
   ],
   "source": [
    "torch.allclose(x1, x2)"
   ]
  },
  {
   "cell_type": "code",
   "execution_count": 8,
   "id": "60338483-9d63-47ee-bd98-24934a2fd3c0",
   "metadata": {},
   "outputs": [
    {
     "data": {
      "text/plain": [
       "True"
      ]
     },
     "execution_count": 8,
     "metadata": {},
     "output_type": "execute_result"
    }
   ],
   "source": [
    "torch.allclose(s1, s2)"
   ]
  },
  {
   "cell_type": "code",
   "execution_count": null,
   "id": "affcbdc2-382f-47b9-837b-c5f728c2472f",
   "metadata": {},
   "outputs": [],
   "source": []
  }
 ],
 "metadata": {
  "kernelspec": {
   "display_name": "Python 3 (ipykernel)",
   "language": "python",
   "name": "python3"
  },
  "language_info": {
   "codemirror_mode": {
    "name": "ipython",
    "version": 3
   },
   "file_extension": ".py",
   "mimetype": "text/x-python",
   "name": "python",
   "nbconvert_exporter": "python",
   "pygments_lexer": "ipython3",
   "version": "3.10.10"
  }
 },
 "nbformat": 4,
 "nbformat_minor": 5
}
